{
 "cells": [
  {
   "cell_type": "code",
   "execution_count": 8,
   "id": "5977e18d-a259-497c-940d-6d8912884241",
   "metadata": {},
   "outputs": [],
   "source": [
    "from pyspark.sql import SparkSession\n",
    "from pyspark.sql.functions import col, lit, udf\n",
    "from pyspark.sql.types import StringType\n",
    "import requests\n",
    "import geohash2\n",
    "spark = SparkSession.builder.appName(\"RestaurantWeather\").getOrCreate()\n",
    "restaurant_data_path = '/home/jovyan/restaurant_csv/*.csv'\n",
    "weather_data_path = '/home/jovyan/weather/year=2016/month=10/day=01/*.parquet'\n",
    "restaurants_df = spark.read.csv(restaurant_data_path, header=True, inferSchema=True)\n",
    "weather_df = spark.read.parquet(weather_data_path)"
   ]
  },
  {
   "cell_type": "code",
   "execution_count": 10,
   "id": "d9b30654-e484-4849-935e-fa3aa47a6199",
   "metadata": {},
   "outputs": [
    {
     "name": "stdout",
     "output_type": "stream",
     "text": [
      "+-----------+------------+--------------+-----------------------+-------+------+----+----+\n",
      "|         id|franchise_id|franchise_name|restaurant_franchise_id|country|  city| lat| lng|\n",
      "+-----------+------------+--------------+-----------------------+-------+------+----+----+\n",
      "|85899345920|           1|       Savoria|                  18952|     US|Dillon|NULL|NULL|\n",
      "+-----------+------------+--------------+-----------------------+-------+------+----+----+\n",
      "\n"
     ]
    }
   ],
   "source": [
    "missing_coordinates_df = restaurants_df.filter(col(\"lat\").isNull() | col(\"lng\").isNull())\n",
    "missing_coordinates_df.show()"
   ]
  },
  {
   "cell_type": "code",
   "execution_count": 11,
   "id": "92180bba-3df9-4128-9eab-8b6df2d97af6",
   "metadata": {},
   "outputs": [
    {
     "name": "stdout",
     "output_type": "stream",
     "text": [
      "+------------+------------+--------------------+-----------------------+-------+--------------+------+-------+--------------------+\n",
      "|          id|franchise_id|      franchise_name|restaurant_franchise_id|country|          city|   lat|    lng|         coordinates|\n",
      "+------------+------------+--------------------+-----------------------+-------+--------------+------+-------+--------------------+\n",
      "|197568495625|          10|    The Golden Spoon|                  24784|     US|       Decatur|34.578|-87.021|[Ljava.lang.Objec...|\n",
      "| 17179869242|          59|         Azalea Cafe|                  10902|     FR|         Paris|48.861|  2.368|[Ljava.lang.Objec...|\n",
      "|214748364826|          27|     The Corner Cafe|                  92040|     US|    Rapid City| 44.08|-103.25|[Ljava.lang.Objec...|\n",
      "|154618822706|          51|        The Pizzeria|                  41484|     AT|        Vienna|48.213| 16.413|[Ljava.lang.Objec...|\n",
      "|163208757312|          65|       Chef's Corner|                  96638|     GB|        London|51.495| -0.191|[Ljava.lang.Objec...|\n",
      "| 68719476763|          28|    The Spicy Pickle|                  77517|     US|      Grayling|44.657|-84.744|[Ljava.lang.Objec...|\n",
      "|223338299419|          28|    The Spicy Pickle|                  36937|     US|        Oswego|43.452|-76.532|[Ljava.lang.Objec...|\n",
      "|240518168650|          75|     Greenhouse Cafe|                  93164|     NL|     Amsterdam| 52.37|  4.897|[Ljava.lang.Objec...|\n",
      "|128849018936|          57|The Yellow Submarine|                   5679|     FR|         Paris|48.872|  2.335|[Ljava.lang.Objec...|\n",
      "|197568495635|          20|       The Brasserie|                  24784|     US|Jeffersonville|39.616|-83.612|[Ljava.lang.Objec...|\n",
      "| 68719476768|          33|   The Blue Elephant|                  77517|     IT|         Milan|45.479|  9.146|[Ljava.lang.Objec...|\n",
      "| 51539607582|          31|           Bistro 42|                   6934|     IT|         Milan|45.444|  9.153|[Ljava.lang.Objec...|\n",
      "| 94489280554|          43|      The Food House|                  95399|     FR|         Paris|48.867|  2.329|[Ljava.lang.Objec...|\n",
      "|206158430215|           8|     The Green Olive|                  53370|     US|   Haltom City|32.789| -97.28|[Ljava.lang.Objec...|\n",
      "|154618822657|           2|        Bella Cucina|                  41484|     US|   Fort Pierce|27.412|-80.391|[Ljava.lang.Objec...|\n",
      "| 17179869217|          34|     The Tasty Treat|                  10902|     US|     Green Bay|44.476|-88.077|[Ljava.lang.Objec...|\n",
      "|  8589934633|          42|     The Daily Scoop|                  12630|     FR|         Paris|48.854|  2.343|[Ljava.lang.Objec...|\n",
      "|240518168596|          21|      The Lazy Daisy|                  93164|     US|    Mendenhall| 39.86|-75.646|[Ljava.lang.Objec...|\n",
      "|171798691906|          67|  Crimson and Clover|                  65939|     NL|     Amsterdam|52.361|  4.894|[Ljava.lang.Objec...|\n",
      "| 42949673022|          63|          Cafe Paris|                  89646|     GB|        London|51.508| -0.107|[Ljava.lang.Objec...|\n",
      "+------------+------------+--------------------+-----------------------+-------+--------------+------+-------+--------------------+\n",
      "only showing top 20 rows\n",
      "\n"
     ]
    }
   ],
   "source": [
    "def get_coordinates(address):\n",
    "    api_key = \"c7d1742380aa409a9d7fd7de3fefe564\"\n",
    "    url = f\"https://api.opencagedata.com/geocode/v1/json?q={address}&key={api_key}\"\n",
    "    response = requests.get(url)\n",
    "    data = response.json()\n",
    "    if data[\"results\"]:\n",
    "        lat = data[\"results\"][0][\"geometry\"][\"lat\"]\n",
    "        lng = data[\"results\"][0][\"geometry\"][\"lng\"]\n",
    "        return lat, lng\n",
    "    return None, None\n",
    "from pyspark.sql.functions import udf\n",
    "from pyspark.sql.types import StringType\n",
    "get_coordinates_udf = udf(get_coordinates, StringType())\n",
    "restaurants_df = restaurants_df.withColumn(\"coordinates\", get_coordinates_udf(col(\"city\")))\n",
    "restaurants_df.show()"
   ]
  },
  {
   "cell_type": "code",
   "execution_count": 14,
   "id": "9b32e76f-5bd0-4363-8a30-bbc41d6c0fb3",
   "metadata": {},
   "outputs": [],
   "source": [
    "import geohash2\n",
    "def generate_geohash(latitude, longitude):\n",
    "    if latitude and longitude:\n",
    "        return geohash2.encode(latitude, longitude, precision=4) \n",
    "    return None"
   ]
  },
  {
   "cell_type": "code",
   "execution_count": 15,
   "id": "42c72a4f-5a6f-467e-9aff-30e0da82a07e",
   "metadata": {},
   "outputs": [
    {
     "name": "stdout",
     "output_type": "stream",
     "text": [
      "+------------+------------+--------------------+-----------------------+-------+--------------+------+-------+--------------------+-------+\n",
      "|          id|franchise_id|      franchise_name|restaurant_franchise_id|country|          city|   lat|    lng|         coordinates|geohash|\n",
      "+------------+------------+--------------------+-----------------------+-------+--------------+------+-------+--------------------+-------+\n",
      "|197568495625|          10|    The Golden Spoon|                  24784|     US|       Decatur|34.578|-87.021|[Ljava.lang.Objec...|   dn4h|\n",
      "| 17179869242|          59|         Azalea Cafe|                  10902|     FR|         Paris|48.861|  2.368|[Ljava.lang.Objec...|   u09t|\n",
      "|214748364826|          27|     The Corner Cafe|                  92040|     US|    Rapid City| 44.08|-103.25|[Ljava.lang.Objec...|   9xyd|\n",
      "|154618822706|          51|        The Pizzeria|                  41484|     AT|        Vienna|48.213| 16.413|[Ljava.lang.Objec...|   u2ed|\n",
      "|163208757312|          65|       Chef's Corner|                  96638|     GB|        London|51.495| -0.191|[Ljava.lang.Objec...|   gcpu|\n",
      "| 68719476763|          28|    The Spicy Pickle|                  77517|     US|      Grayling|44.657|-84.744|[Ljava.lang.Objec...|   dpgw|\n",
      "|223338299419|          28|    The Spicy Pickle|                  36937|     US|        Oswego|43.452|-76.532|[Ljava.lang.Objec...|   dr9x|\n",
      "|240518168650|          75|     Greenhouse Cafe|                  93164|     NL|     Amsterdam| 52.37|  4.897|[Ljava.lang.Objec...|   u173|\n",
      "|128849018936|          57|The Yellow Submarine|                   5679|     FR|         Paris|48.872|  2.335|[Ljava.lang.Objec...|   u09w|\n",
      "|197568495635|          20|       The Brasserie|                  24784|     US|Jeffersonville|39.616|-83.612|[Ljava.lang.Objec...|   dph9|\n",
      "| 68719476768|          33|   The Blue Elephant|                  77517|     IT|         Milan|45.479|  9.146|[Ljava.lang.Objec...|   u0nd|\n",
      "| 51539607582|          31|           Bistro 42|                   6934|     IT|         Milan|45.444|  9.153|[Ljava.lang.Objec...|   u0nd|\n",
      "| 94489280554|          43|      The Food House|                  95399|     FR|         Paris|48.867|  2.329|[Ljava.lang.Objec...|   u09t|\n",
      "|206158430215|           8|     The Green Olive|                  53370|     US|   Haltom City|32.789| -97.28|[Ljava.lang.Objec...|   9vff|\n",
      "|154618822657|           2|        Bella Cucina|                  41484|     US|   Fort Pierce|27.412|-80.391|[Ljava.lang.Objec...|   dhyg|\n",
      "| 17179869217|          34|     The Tasty Treat|                  10902|     US|     Green Bay|44.476|-88.077|[Ljava.lang.Objec...|   dpcm|\n",
      "|  8589934633|          42|     The Daily Scoop|                  12630|     FR|         Paris|48.854|  2.343|[Ljava.lang.Objec...|   u09t|\n",
      "|240518168596|          21|      The Lazy Daisy|                  93164|     US|    Mendenhall| 39.86|-75.646|[Ljava.lang.Objec...|   dr44|\n",
      "|171798691906|          67|  Crimson and Clover|                  65939|     NL|     Amsterdam|52.361|  4.894|[Ljava.lang.Objec...|   u173|\n",
      "| 42949673022|          63|          Cafe Paris|                  89646|     GB|        London|51.508| -0.107|[Ljava.lang.Objec...|   gcpv|\n",
      "+------------+------------+--------------------+-----------------------+-------+--------------+------+-------+--------------------+-------+\n",
      "only showing top 20 rows\n",
      "\n"
     ]
    }
   ],
   "source": [
    "from pyspark.sql.functions import udf\n",
    "from pyspark.sql.types import StringType\n",
    "generate_geohash_udf = udf(generate_geohash, StringType())\n",
    "restaurants_df = restaurants_df.withColumn(\"geohash\", generate_geohash_udf(col(\"lat\"), col(\"lng\")))\n",
    "restaurants_df.show()"
   ]
  },
  {
   "cell_type": "code",
   "execution_count": 21,
   "id": "28a47210-3c93-4fb8-9f3d-25195679bc00",
   "metadata": {
    "scrolled": true
   },
   "outputs": [
    {
     "name": "stdout",
     "output_type": "stream",
     "text": [
      "+-------+------------+------------+--------------------+-----------------------+-------+--------------+------+-------+--------------------+-----------+-----------+----------+----------+---------+\n",
      "|geohash|          id|franchise_id|      franchise_name|restaurant_franchise_id|country|          city|   lat|    lng|         coordinates|weather_lng|weather_lat|avg_tmpr_f|avg_tmpr_c|wthr_date|\n",
      "+-------+------------+------------+--------------------+-----------------------+-------+--------------+------+-------+--------------------+-----------+-----------+----------+----------+---------+\n",
      "|   dn4h|197568495625|          10|    The Golden Spoon|                  24784|     US|       Decatur|34.578|-87.021|[Ljava.lang.Objec...|       NULL|       NULL|      NULL|      NULL|     NULL|\n",
      "|   u09t| 17179869242|          59|         Azalea Cafe|                  10902|     FR|         Paris|48.861|  2.368|[Ljava.lang.Objec...|       NULL|       NULL|      NULL|      NULL|     NULL|\n",
      "|   9xyd|214748364826|          27|     The Corner Cafe|                  92040|     US|    Rapid City| 44.08|-103.25|[Ljava.lang.Objec...|       NULL|       NULL|      NULL|      NULL|     NULL|\n",
      "|   u2ed|154618822706|          51|        The Pizzeria|                  41484|     AT|        Vienna|48.213| 16.413|[Ljava.lang.Objec...|       NULL|       NULL|      NULL|      NULL|     NULL|\n",
      "|   gcpu|163208757312|          65|       Chef's Corner|                  96638|     GB|        London|51.495| -0.191|[Ljava.lang.Objec...|       NULL|       NULL|      NULL|      NULL|     NULL|\n",
      "|   dpgw| 68719476763|          28|    The Spicy Pickle|                  77517|     US|      Grayling|44.657|-84.744|[Ljava.lang.Objec...|       NULL|       NULL|      NULL|      NULL|     NULL|\n",
      "|   dr9x|223338299419|          28|    The Spicy Pickle|                  36937|     US|        Oswego|43.452|-76.532|[Ljava.lang.Objec...|       NULL|       NULL|      NULL|      NULL|     NULL|\n",
      "|   u173|240518168650|          75|     Greenhouse Cafe|                  93164|     NL|     Amsterdam| 52.37|  4.897|[Ljava.lang.Objec...|       NULL|       NULL|      NULL|      NULL|     NULL|\n",
      "|   u09w|128849018936|          57|The Yellow Submarine|                   5679|     FR|         Paris|48.872|  2.335|[Ljava.lang.Objec...|       NULL|       NULL|      NULL|      NULL|     NULL|\n",
      "|   dph9|197568495635|          20|       The Brasserie|                  24784|     US|Jeffersonville|39.616|-83.612|[Ljava.lang.Objec...|       NULL|       NULL|      NULL|      NULL|     NULL|\n",
      "|   u0nd| 68719476768|          33|   The Blue Elephant|                  77517|     IT|         Milan|45.479|  9.146|[Ljava.lang.Objec...|       NULL|       NULL|      NULL|      NULL|     NULL|\n",
      "|   u0nd| 51539607582|          31|           Bistro 42|                   6934|     IT|         Milan|45.444|  9.153|[Ljava.lang.Objec...|       NULL|       NULL|      NULL|      NULL|     NULL|\n",
      "|   u09t| 94489280554|          43|      The Food House|                  95399|     FR|         Paris|48.867|  2.329|[Ljava.lang.Objec...|       NULL|       NULL|      NULL|      NULL|     NULL|\n",
      "|   9vff|206158430215|           8|     The Green Olive|                  53370|     US|   Haltom City|32.789| -97.28|[Ljava.lang.Objec...|       NULL|       NULL|      NULL|      NULL|     NULL|\n",
      "|   dhyg|154618822657|           2|        Bella Cucina|                  41484|     US|   Fort Pierce|27.412|-80.391|[Ljava.lang.Objec...|       NULL|       NULL|      NULL|      NULL|     NULL|\n",
      "|   dpcm| 17179869217|          34|     The Tasty Treat|                  10902|     US|     Green Bay|44.476|-88.077|[Ljava.lang.Objec...|       NULL|       NULL|      NULL|      NULL|     NULL|\n",
      "|   u09t|  8589934633|          42|     The Daily Scoop|                  12630|     FR|         Paris|48.854|  2.343|[Ljava.lang.Objec...|       NULL|       NULL|      NULL|      NULL|     NULL|\n",
      "|   dr44|240518168596|          21|      The Lazy Daisy|                  93164|     US|    Mendenhall| 39.86|-75.646|[Ljava.lang.Objec...|       NULL|       NULL|      NULL|      NULL|     NULL|\n",
      "|   u173|171798691906|          67|  Crimson and Clover|                  65939|     NL|     Amsterdam|52.361|  4.894|[Ljava.lang.Objec...|       NULL|       NULL|      NULL|      NULL|     NULL|\n",
      "|   gcpv| 42949673022|          63|          Cafe Paris|                  89646|     GB|        London|51.508| -0.107|[Ljava.lang.Objec...|       NULL|       NULL|      NULL|      NULL|     NULL|\n",
      "+-------+------------+------------+--------------------+-----------------------+-------+--------------+------+-------+--------------------+-----------+-----------+----------+----------+---------+\n",
      "only showing top 20 rows\n",
      "\n"
     ]
    }
   ],
   "source": [
    "# Переименуем столбцы lat и lng в weather_df, чтобы избежать конфликта\n",
    "weather_df = weather_df.withColumnRenamed(\"lat\", \"weather_lat\") \\\n",
    "                       .withColumnRenamed(\"lng\", \"weather_lng\")\n",
    "\n",
    "# Объединение данных\n",
    "enriched_df = restaurants_df.join(weather_df, on=\"geohash\", how=\"left\")\n",
    "\n",
    "# Проверка результатов\n",
    "enriched_df.show()\n"
   ]
  },
  {
   "cell_type": "code",
   "execution_count": 22,
   "id": "a17fd670-508c-436e-8827-8054ab82148f",
   "metadata": {},
   "outputs": [],
   "source": [
    "enriched_df.write.partitionBy(\"geohash\").parquet(\"./enriched_data\")"
   ]
  },
  {
   "cell_type": "code",
   "execution_count": 27,
   "id": "2af5e291-0fc7-4156-b5ed-b92af93dacf3",
   "metadata": {},
   "outputs": [
    {
     "name": "stderr",
     "output_type": "stream",
     "text": [
      ".\n",
      "----------------------------------------------------------------------\n",
      "Ran 1 test in 0.014s\n",
      "\n",
      "OK\n"
     ]
    }
   ],
   "source": [
    "#TE\n",
    "import unittest\n",
    "class TestGeohash(unittest.TestCase):\n",
    "    def test_generate_geohash(self):\n",
    "        # Тестирование с использованием точности до 4 символов (или 6, если нужно)\n",
    "        self.assertEqual(generate_geohash(40.7128, -74.0060), \"dr5r\")  # или \"dr5ru7\", в зависимости от точности\n",
    "        self.assertIsNone(generate_geohash(None, None))  # Проверка на None\n",
    "\n",
    "# Для запуска тестов из Jupyter, используйте следующий код:\n",
    "if __name__ == \"__main__\":\n",
    "    unittest.main(argv=['first-arg-is-ignored'], exit=False)\n"
   ]
  },
  {
   "cell_type": "code",
   "execution_count": null,
   "id": "708df5ef-c4ba-4c08-86f9-0f759d8cd314",
   "metadata": {},
   "outputs": [],
   "source": []
  }
 ],
 "metadata": {
  "kernelspec": {
   "display_name": "PySpark",
   "language": "python",
   "name": "pyspark"
  },
  "language_info": {
   "codemirror_mode": {
    "name": "ipython",
    "version": 3
   },
   "file_extension": ".py",
   "mimetype": "text/x-python",
   "name": "python",
   "nbconvert_exporter": "python",
   "pygments_lexer": "ipython3",
   "version": "3.11.6"
  }
 },
 "nbformat": 4,
 "nbformat_minor": 5
}
